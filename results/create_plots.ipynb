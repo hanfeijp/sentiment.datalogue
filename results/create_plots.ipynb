{
 "cells": [
  {
   "cell_type": "code",
   "execution_count": null,
   "metadata": {
    "collapsed": false
   },
   "outputs": [],
   "source": [
    "%pylab inline\n",
    "import seaborn as sns\n",
    "import pandas as pd\n",
    "import numpy as np\n",
    "import json\n",
    "sns.set_style('white')\n",
    "from itertools import cycle\n",
    "from scipy import stats\n",
    "sns.set_context('talk')"
   ]
  },
  {
   "cell_type": "markdown",
   "metadata": {},
   "source": [
    "## How to reproduce"
   ]
  },
  {
   "cell_type": "markdown",
   "metadata": {},
   "source": [
    "Note to reproduce these results, use the following commands from `../` in bash:\n",
    "1. `mkdir results/history` \n",
    "2. `mkdir results/aucs`\n",
    "3. `mv *_history.json ./results/history/`\n",
    "4. `mv *.auc.json ./results/aucs/`\n",
    "\n",
    "Then run this notebook!"
   ]
  },
  {
   "cell_type": "markdown",
   "metadata": {},
   "source": [
    "# LSTM vs BiLSTM Loss Curve"
   ]
  },
  {
   "cell_type": "code",
   "execution_count": null,
   "metadata": {
    "collapsed": false
   },
   "outputs": [],
   "source": [
    "# LSTM Histories:\n",
    "histories = {\n",
    "    \"LSTM (glove)\" : json.load(open('./history/LSTNglovegloveLSTM_history.json')),\n",
    "    \"BiLSTM (glove)\" : json.load(open('./history/biLSTNgloveglovebiLSTM_history.json')),\n",
    "    \"LSTM (learned)\" : json.load(open('./history/LSTNlearnedlearnedLSTM_history.json')),\n",
    "    \"BiLSTM (learned)\" : json.load(open('./history/biLSTNlearnedlearnedbiLSTM_history.json'))\n",
    "}\n",
    "plt.figure(figsize=(5,4))\n",
    "\n",
    "to_plot = 'loss'\n",
    "colors = sns.color_palette(n_colors=2)\n",
    "\n",
    "for i, (model, model_data) in enumerate(histories.items()):\n",
    "    c = colors[0] if 'Bi' in model else colors[1]\n",
    "    \n",
    "    training = model_data[to_plot]\n",
    "    testing = model_data['val_'+to_plot]\n",
    "#     marker = '--' if 'Bi' in model else '-'\n",
    "    marker = '--' if 'glove' not in model else '-'\n",
    "#     plt.plot(training, marker, label=model, color=c)\n",
    "    plt.plot(testing, marker, label=model, color=c)\n",
    "\n",
    "plt.legend(loc=(0.8,0.6))\n",
    "sns.despine()\n",
    "plt.xlabel('Epochs')\n",
    "plt.ylabel(to_plot)\n",
    "plt.title('LSTM (green) vs BiLSTM (blue)')\n",
    "plt.show()"
   ]
  },
  {
   "cell_type": "code",
   "execution_count": null,
   "metadata": {
    "collapsed": true
   },
   "outputs": [],
   "source": [
    "\n",
    "def plot_single_auc(fpr, tpr, auc_, ax=None, c='b', label=''):\n",
    "    \"\"\"\n",
    "    Plots the receiver operating characteristic curve for a single \n",
    "    sequence of false positive rates, true postive rates and auc\n",
    "    \"\"\"\n",
    "    ax_ = ax\n",
    "    if ax is None:\n",
    "        f = plt.figure()\n",
    "        ax = f.add_subplot(111)\n",
    "\n",
    "    ax.plot(fpr, tpr, lw=2, color=c,\\\n",
    "        label=label + ' AUC:' + str(np.around(auc_, 3)) )\n",
    "\n",
    "    if ax_ is None:\n",
    "        return f, ax\n",
    "    else:\n",
    "        return ax\n",
    "\n"
   ]
  },
  {
   "cell_type": "code",
   "execution_count": null,
   "metadata": {
    "collapsed": false
   },
   "outputs": [],
   "source": [
    "# edit according to what you want printed.\n",
    "MODELS = [\"LR\",\"FNN\",\"CNN (glove)\",\"LSTM (glove)\",\"LSTM (learned)\",\"BiLSTM (glove)\",\"BiLSTM (learned)\",\"CNN-LSTM (glove)\",\"CNN-LSTM (learned)\",\"CNN-biLSTM (glove)\",\"CNN-biLSTM (learned)\"]\n",
    "\n",
    "aucs = {\n",
    "    \"LR\": json.load(open('./aucs/LR.auc.json', 'r')),\n",
    "    \"FNN\": json.load(open('./aucs/FNN_tfidftfidfFNN.auc.json', 'r')),\n",
    "    \"CNN (glove)\": json.load(open('./aucs/CNNgloveCNN.auc.json', 'r')),\n",
    "    \"CNN (learned)\": json.load(open('./aucs/CNNlearnedCNN.auc.json', 'r')),\n",
    "    \"LSTM (glove)\":json.load(open('./aucs/LSTNglovegloveLSTM.auc.json', 'r')),\n",
    "    \"LSTM (learned)\":json.load(open('./aucs/LSTNlearnedlearnedLSTM.auc.json', 'r')),\n",
    "    \"BiLSTM (glove)\":json.load(open('./aucs/biLSTNgloveglovebiLSTM.auc.json', 'r')),\n",
    "    \"BiLSTM (learned)\":json.load(open('./aucs/biLSTNlearnedlearnedbiLSTM.auc.json', 'r')),\n",
    "    \"CNN-LSTM (glove)\": json.load(open('./aucs/CNNLSTMgloveLSTMCNN.auc.json', 'r')),\n",
    "    \"CNN-LSTM (learned)\": json.load(open('./aucs/CNNLSTMlearnedLSTMCNN.auc.json', 'r')),\n",
    "    \"CNN-biLSTM (glove)\": json.load(open('./aucs/biLSTNgloveglovebiLSTM.auc.json', 'r')),\n",
    "    \"CNN-biLSTM (learned)\": json.load(open('./aucs/biLSTNlearnedlearnedbiLSTM.auc.json', 'r'))\n",
    "}\n",
    "\n",
    "\n",
    "f = plt.figure(figsize=(5,4.5))\n",
    "ax = f.add_subplot(111)\n",
    "\n",
    "\n",
    "colors = sns.color_palette('husl',n_colors=len(aucs))\n",
    "\n",
    "for i, model in enumerate(MODELS):\n",
    "    model_data = aucs[model]\n",
    "    c = colors[i]\n",
    "    \n",
    "    fpr = model_data['fpr']\n",
    "    tpr = model_data['tpr']\n",
    "    auc_ = model_data['auc']\n",
    "\n",
    "    plot_single_auc(fpr, tpr, auc_, ax=ax, c=c, label=model)\n",
    "\n",
    "    \n",
    "ax.plot([0, 1], [0, 1], lw=2, linestyle='--', color='k', label='Random')\n",
    "plt.legend(loc=(0.9,0))\n",
    "sns.despine()\n",
    "ax.set_xlabel('False Positive Rate')\n",
    "ax.set_ylabel('True Positive Rate')\n",
    "f.show()"
   ]
  },
  {
   "cell_type": "markdown",
   "metadata": {},
   "source": [
    "# Glove Embeddings perform better than Learned Embeddings"
   ]
  },
  {
   "cell_type": "code",
   "execution_count": null,
   "metadata": {
    "collapsed": false
   },
   "outputs": [],
   "source": [
    "DATA = pd.read_csv('../results.csv',header=None,names=['Model', 'params', 'embedding', 'tr_acc', 'tst_acc', 'tst_auc', 'trp', 'fpr'])\n",
    "train_accuracy, test_accuracy, AUCS =  list(zip(*[DATA[(DATA['Model'] == 'LR') & (DATA['embedding'] == 'tfidf')].mean().values.tolist(),\n",
    "DATA[(DATA['Model'] == 'FNN') & (DATA['embedding'] == 'tfidf')].mean().values.tolist(),\n",
    "DATA[(DATA['Model'] == 'CNN') & (DATA['embedding'] == 'glove')].mean().values.tolist(),\n",
    "DATA[(DATA['Model'] == 'CNN') & (DATA['embedding'] == 'learned')].mean().values.tolist(),\n",
    "DATA[(DATA['Model'] == 'LSTM') & (DATA['embedding'] == 'glove')].mean().values.tolist(),\n",
    "DATA[(DATA['Model'] == 'LSTM') & (DATA['embedding'] == 'learned')].mean().values.tolist(),\n",
    "DATA[(DATA['Model'] == 'biLSTM') & (DATA['embedding'] == 'glove')].mean().values.tolist(),\n",
    "DATA[(DATA['Model'] == 'biLSTM') & (DATA['embedding'] == 'learned')].mean().values.tolist(),\n",
    "DATA[(DATA['Model'] == 'LSTMCNN') & (DATA['embedding'] == 'glove')].mean().values.tolist(),\n",
    "DATA[(DATA['Model'] == 'LSTMCNN') & (DATA['embedding'] == 'learned')].mean().values.tolist(),\n",
    "DATA[(DATA['Model'] == 'biLSTMCNN') & (DATA['embedding'] == 'glove')].mean().values.tolist(),\n",
    "DATA[(DATA['Model'] == 'biLSTMCNN') & (DATA['embedding'] == 'learned')].mean().values.tolist()]))\n",
    "model_names = [\"LR-Tfidf\", \"FNN-Tfidf\", \"CNN-Glove\", \"CNN-Learned\", \\\n",
    "               \"LSTM-Glove\", \"LSTM-Learned\", \"BiLSTM-Glove\", \"BiLSTM-Learned\", \\\n",
    "              \"CNN-LSTM-Glove\", \"CNN-LSTM-Learned\", \"CNN-BiLSTM-Glove\", \"CNN-BiLSTM-Learned\"]"
   ]
  },
  {
   "cell_type": "code",
   "execution_count": null,
   "metadata": {
    "collapsed": false,
    "scrolled": true
   },
   "outputs": [],
   "source": [
    "mu_glove = DATA[DATA['embedding'] == 'glove'].mean()\n",
    "mu_learned = DATA[DATA['embedding'] == 'learned'].mean()\n",
    "sigma_glove = DATA[DATA['embedding'] == 'glove'].std()\n",
    "sigma_learned = DATA[DATA['embedding'] == 'learned'].std()\n",
    "n_glove = np.sum(DATA['embedding'] == 'glove')\n",
    "n_learned = np.sum(DATA['embedding'] == 'learned')\n",
    "print(stats.ttest_ind_from_stats(mu_glove, sigma_glove, n_glove, mu_learned, sigma_learned, n_learned))\n",
    "\n",
    "print('Significant Differences in :')\n",
    "significant_differences = mu_learned[stats.ttest_ind_from_stats(mu_glove, sigma_glove, n_glove, mu_learned, sigma_learned, n_learned).pvalue < 0.05]\n",
    "print(significant_differences.keys()[0])"
   ]
  },
  {
   "cell_type": "code",
   "execution_count": null,
   "metadata": {
    "collapsed": false
   },
   "outputs": [],
   "source": [
    "plt.bar(np.linspace(0.1, 1, 2),[ mu_learned['tst_acc'], mu_glove['tst_acc'] ],width=0.7)\n",
    "plt.ylim([0.75, 0.88])\n",
    "plt.xticks(np.linspace(0.35, 1.24,2), ['Learned', 'Glove'])\n",
    "plt.errorbar(0.35+np.linspace(0.1, 1, 2), \\\n",
    "             [ mu_learned['tst_acc'], mu_glove['tst_acc'] ], \\\n",
    "             [ sigma_learned['tst_acc'], sigma_glove['tst_acc']], ecolor='k')\n",
    "plt.xlabel('Model')\n",
    "plt.ylabel('Test Accuracy')\n",
    "sns.despine()"
   ]
  },
  {
   "cell_type": "markdown",
   "metadata": {},
   "source": [
    "## Glove Summary"
   ]
  },
  {
   "cell_type": "code",
   "execution_count": null,
   "metadata": {
    "collapsed": false,
    "scrolled": true
   },
   "outputs": [],
   "source": [
    "DATA[DATA['embedding'] == 'glove'].groupby('Model').mean()"
   ]
  },
  {
   "cell_type": "markdown",
   "metadata": {},
   "source": [
    "## Learned Summary"
   ]
  },
  {
   "cell_type": "code",
   "execution_count": null,
   "metadata": {
    "collapsed": false
   },
   "outputs": [],
   "source": [
    "DATA[DATA['embedding'] == 'learned'].groupby('Model').mean()"
   ]
  },
  {
   "cell_type": "markdown",
   "metadata": {
    "collapsed": true
   },
   "source": [
    "# Comparing metrics between models"
   ]
  },
  {
   "cell_type": "code",
   "execution_count": null,
   "metadata": {
    "collapsed": false
   },
   "outputs": [],
   "source": [
    "colors = sns.color_palette('husl',n_colors=len(AUCS))\n",
    "n_models = len(model_names)\n",
    "plt.figure(figsize=(10,8))\n",
    "plt.subplot(311)\n",
    "plt.bar(np.linspace(0.1, n_models, n_models), AUCS, width=0.91, color=colors)\n",
    "plt.xticks([], [])\n",
    "plt.ylim([0.84, 0.95])\n",
    "plt.ylabel('AUC-ROC')\n",
    "\n",
    "plt.subplot(312)\n",
    "plt.bar(np.linspace(0, n_models, n_models), 100*np.array(test_accuracy), width=0.91, color=colors)\n",
    "plt.xticks([], [])\n",
    "plt.ylim([76, 89])\n",
    "plt.ylabel('Test Accuracy')\n",
    "\n",
    "plt.subplot(313)\n",
    "plt.bar(np.linspace(0, n_models, n_models), 100*np.array(train_accuracy), width=0.91, color=colors)\n",
    "plt.xticks(np.linspace(0.20, n_models-0.1 ,n_models), model_names, rotation=65)\n",
    "plt.ylim([78, 95])\n",
    "plt.xlabel('Model')\n",
    "plt.ylabel('Train Accuracy')\n"
   ]
  },
  {
   "cell_type": "code",
   "execution_count": null,
   "metadata": {
    "collapsed": true
   },
   "outputs": [],
   "source": []
  }
 ],
 "metadata": {
  "kernelspec": {
   "display_name": "Python 3",
   "language": "python",
   "name": "python3"
  },
  "language_info": {
   "codemirror_mode": {
    "name": "ipython",
    "version": 3
   },
   "file_extension": ".py",
   "mimetype": "text/x-python",
   "name": "python",
   "nbconvert_exporter": "python",
   "pygments_lexer": "ipython3",
   "version": "3.4.3"
  }
 },
 "nbformat": 4,
 "nbformat_minor": 0
}
