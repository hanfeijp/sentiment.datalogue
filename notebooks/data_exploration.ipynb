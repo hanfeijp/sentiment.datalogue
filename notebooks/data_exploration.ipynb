{
 "cells": [
  {
   "cell_type": "code",
   "execution_count": 25,
   "metadata": {
    "collapsed": false
   },
   "outputs": [
    {
     "name": "stdout",
     "output_type": "stream",
     "text": [
      "Populating the interactive namespace from numpy and matplotlib\n"
     ]
    }
   ],
   "source": [
    "%pylab inline\n",
    "import numpy as np\n",
    "from glob import glob\n",
    "from utils import add_module_paths\n",
    "add_module_paths()\n",
    "from data.utils import load_data\n",
    "import seaborn as sns\n",
    "sns.set_style('white')"
   ]
  },
  {
   "cell_type": "markdown",
   "metadata": {},
   "source": [
    "# Global Statistics\n",
    "\n",
    "Questions: How many examples are we working with?"
   ]
  },
  {
   "cell_type": "code",
   "execution_count": 8,
   "metadata": {
    "collapsed": false
   },
   "outputs": [
    {
     "name": "stdout",
     "output_type": "stream",
     "text": [
      "Training Set Instances:\n",
      "Positive Examples: 12500\n",
      "Negative Examples: 12500\n"
     ]
    }
   ],
   "source": [
    "print 'Training Set Instances:'\n",
    "print 'Positive Examples:', len(glob('../data/aclImdb/train/pos/*.txt'))\n",
    "print 'Negative Examples:', len(glob('../data/aclImdb/train/neg/*.txt'))"
   ]
  },
  {
   "cell_type": "code",
   "execution_count": 9,
   "metadata": {
    "collapsed": false
   },
   "outputs": [
    {
     "name": "stdout",
     "output_type": "stream",
     "text": [
      "Testing Set Instances\n",
      "Positive Examples: 12500\n",
      "Negative Examples: 12500\n"
     ]
    }
   ],
   "source": [
    "print 'Testing Set Instances'\n",
    "print 'Positive Examples:', len(glob('../data/aclImdb/test/pos/*.txt'))\n",
    "print 'Negative Examples:', len(glob('../data/aclImdb/test/neg/*.txt'))"
   ]
  },
  {
   "cell_type": "code",
   "execution_count": 32,
   "metadata": {
    "collapsed": false
   },
   "outputs": [
    {
     "name": "stdout",
     "output_type": "stream",
     "text": [
      "Total number of unique words: 89527\n"
     ]
    }
   ],
   "source": [
    "print 'Total number of unique words:', len(open('../data/aclImdb/imdb.vocab', 'r').readlines())"
   ]
  },
  {
   "cell_type": "markdown",
   "metadata": {},
   "source": [
    "## What is the distribution of the ratings?"
   ]
  },
  {
   "cell_type": "code",
   "execution_count": 14,
   "metadata": {
    "collapsed": true
   },
   "outputs": [],
   "source": [
    "negative_data = load_data(folder_location='../data/aclImdb', sentiments='neg')\n",
    "positive_data = load_data(folder_location='../data/aclImdb', sentiments='pos')"
   ]
  },
  {
   "cell_type": "code",
   "execution_count": 15,
   "metadata": {
    "collapsed": false,
    "scrolled": false
   },
   "outputs": [],
   "source": [
    "pos_ratings = np.array(positive_data['rating'])\n",
    "neg_ratings = np.array(negative_data['rating'])"
   ]
  },
  {
   "cell_type": "code",
   "execution_count": 31,
   "metadata": {
    "collapsed": false
   },
   "outputs": [
    {
     "data": {
      "text/plain": [
       "<matplotlib.text.Text at 0x10d041850>"
      ]
     },
     "execution_count": 31,
     "metadata": {},
     "output_type": "execute_result"
    },
    {
     "data": {
      "image/png": "[encoded data removed]",
      "text/plain": [
       "<matplotlib.figure.Figure at 0x10cd59190>"
      ]
     },
     "metadata": {},
     "output_type": "display_data"
    }
   ],
   "source": [
    "plt.hist(pos_ratings,bins=np.arange(6.5,11.5, 1), label='positive', color='green')\n",
    "plt.hist(neg_ratings,bins=np.arange(-0.5,5.5, 1), label='negative', color='red')\n",
    "plt.xticks(arange(0,11), arange(0,11))\n",
    "plt.xlabel('Rating')\n",
    "plt.ylabel('Counts')\n",
    "plt.legend()\n",
    "plt.title('Distribution of Ratings')"
   ]
  },
  {
   "cell_type": "markdown",
   "metadata": {},
   "source": [
    "## What are the kind of words in each category?"
   ]
  },
  {
   "cell_type": "code",
   "execution_count": 32,
   "metadata": {
    "collapsed": true
   },
   "outputs": [],
   "source": [
    "from sklearn.feature_extraction.text import CountVectorizer"
   ]
  },
  {
   "cell_type": "code",
   "execution_count": 34,
   "metadata": {
    "collapsed": true
   },
   "outputs": [],
   "source": [
    "cv = CountVectorizer()"
   ]
  },
  {
   "cell_type": "code",
   "execution_count": 35,
   "metadata": {
    "collapsed": false
   },
   "outputs": [
    {
     "data": {
      "text/plain": [
       "CountVectorizer(analyzer=u'word', binary=False, decode_error=u'strict',\n",
       "        dtype=<type 'numpy.int64'>, encoding=u'utf-8', input=u'content',\n",
       "        lowercase=True, max_df=1.0, max_features=None, min_df=1,\n",
       "        ngram_range=(1, 1), preprocessor=None, stop_words=None,\n",
       "        strip_accents=None, token_pattern=u'(?u)\\\\b\\\\w\\\\w+\\\\b',\n",
       "        tokenizer=None, vocabulary=None)"
      ]
     },
     "execution_count": 35,
     "metadata": {},
     "output_type": "execute_result"
    }
   ],
   "source": [
    "cv.fit(negative_data['text'])"
   ]
  },
  {
   "cell_type": "code",
   "execution_count": 41,
   "metadata": {
    "collapsed": false
   },
   "outputs": [
    {
     "data": {
      "text/plain": [
       "<12500x54251 sparse matrix of type '<type 'numpy.int64'>'\n",
       "\twith 1714458 stored elements in Compressed Sparse Row format>"
      ]
     },
     "execution_count": 41,
     "metadata": {},
     "output_type": "execute_result"
    }
   ],
   "source": [
    "cv.transform(negative_data['text'])"
   ]
  },
  {
   "cell_type": "code",
   "execution_count": 42,
   "metadata": {
    "collapsed": true
   },
   "outputs": [],
   "source": [
    "from collections import Counter"
   ]
  },
  {
   "cell_type": "code",
   "execution_count": 104,
   "metadata": {
    "collapsed": true
   },
   "outputs": [],
   "source": [
    "import nltk\n",
    "import string\n",
    "stopwords = nltk.corpus.stopwords"
   ]
  },
  {
   "cell_type": "code",
   "execution_count": 172,
   "metadata": {
    "collapsed": true
   },
   "outputs": [],
   "source": [
    "STOPWORDS = stopwords.words('english') + list(string.punctuation) + ['``', '...', '--', ',', ':', 'br', '\\'s', '\\'', 'n\\'t', '\\'\\'']\n",
    "\n",
    "def word_counter(sentence_list, remove_these = STOPWORDS):\n",
    "    \"\"\"\n",
    "        Returns words statistics for a list of sentences\n",
    "        @params:\n",
    "            sentence_list: list of sentences (this wll be joined using a space)\n",
    "            remove_these[=STOPWORDS]: list of characters to remove from the corpus before counting\n",
    "        @returns:\n",
    "            Counter object with the words counted.\n",
    "    \"\"\"\n",
    "    corpus = ' '.join(sentence_list)\n",
    "    words = nltk.word_tokenize(' '.join([w for w in nltk.word_tokenize(corpus.lower()) if w not in remove_these]))\n",
    "    return Counter(words)"
   ]
  },
  {
   "cell_type": "code",
   "execution_count": 173,
   "metadata": {
    "collapsed": true
   },
   "outputs": [],
   "source": [
    "all_words = word_counter(negative_data['text'].tolist() + positive_data['text'].tolist()).most_common(100)\n",
    "neg_words = word_counter(negative_data['text'].tolist()).most_common(100)\n",
    "pos_words = word_counter(positive_data['text'].tolist()).most_common(100)"
   ]
  },
  {
   "cell_type": "code",
   "execution_count": 174,
   "metadata": {
    "collapsed": true
   },
   "outputs": [],
   "source": [
    "import pandas as pd"
   ]
  },
  {
   "cell_type": "code",
   "execution_count": 175,
   "metadata": {
    "collapsed": false
   },
   "outputs": [],
   "source": [
    "pd_all_words = pd.DataFrame(all_words[:15],columns=['Word', 'Count'])\n",
    "pd_neg_words = pd.DataFrame(neg_words[:15],columns=['Word', 'Count'])\n",
    "pd_pos_words = pd.DataFrame(pos_words[:15],columns=['Word', 'Count'])"
   ]
  },
  {
   "cell_type": "code",
   "execution_count": 176,
   "metadata": {
    "collapsed": true
   },
   "outputs": [],
   "source": [
    "pd_all_words['Corpus'] = 'All'\n",
    "pd_neg_words['Corpus'] = 'neg'\n",
    "pd_pos_words['Corpus'] = 'pos'"
   ]
  },
  {
   "cell_type": "code",
   "execution_count": 177,
   "metadata": {
    "collapsed": false
   },
   "outputs": [],
   "source": [
    "pd_to_plot = pd.concat([pd_all_words, pd_pos_words, pd_neg_words]) # keep this ordering to ensure pos is green"
   ]
  },
  {
   "cell_type": "code",
   "execution_count": 178,
   "metadata": {
    "collapsed": false
   },
   "outputs": [
    {
     "data": {
      "text/plain": [
       "(0, 25000)"
      ]
     },
     "execution_count": 178,
     "metadata": {},
     "output_type": "execute_result"
    },
    {
     "data": {
      "text/plain": [
       "<matplotlib.figure.Figure at 0x131c7a1d0>"
      ]
     },
     "metadata": {},
     "output_type": "display_data"
    },
    {
     "data": {
      "image/png": "[encoded data removed]",
      "text/plain": [
       "<matplotlib.figure.Figure at 0x1302535d0>"
      ]
     },
     "metadata": {},
     "output_type": "display_data"
    }
   ],
   "source": [
    "plt.figure(figsize=(5,15))\n",
    "sns.factorplot(x='Word', y='Count', hue='Corpus', data=pd_to_plot, kind='bar', size=5, aspect=2)\n",
    "plt.xticks(rotation='vertical')\n",
    "plt.ylim((0,25000))"
   ]
  },
  {
   "cell_type": "code",
   "execution_count": null,
   "metadata": {
    "collapsed": true
   },
   "outputs": [],
   "source": []
  }
 ],
 "metadata": {
  "kernelspec": {
   "display_name": "Python 2",
   "language": "python",
   "name": "python2"
  },
  "language_info": {
   "codemirror_mode": {
    "name": "ipython",
    "version": 2
   },
   "file_extension": ".py",
   "mimetype": "text/x-python",
   "name": "python",
   "nbconvert_exporter": "python",
   "pygments_lexer": "ipython2",
   "version": "2.7.13"
  }
 },
 "nbformat": 4,
 "nbformat_minor": 0
}
